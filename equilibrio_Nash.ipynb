{
 "cells": [
  {
   "cell_type": "code",
   "execution_count": 3,
   "metadata": {},
   "outputs": [],
   "source": [
    "import numpy as np\n",
    "import nashpy as nash"
   ]
  },
  {
   "cell_type": "markdown",
   "metadata": {},
   "source": [
    "Considerando um jogo de 2 players, cada jogador tem 2 estratégias, Player A  pode jogar em baixo ou em cima e o Player B pode jogar pela esquerda ou pela direita essa matriz é conhecida como Matriz do pagamento, Player A é o jogador de linha e o Player B é o jogador Coluna"
   ]
  },
  {
   "cell_type": "markdown",
   "metadata": {},
   "source": [
    "Por Exemplo: Se o Player A jogar \"Baixo\" e o Player B jogar Esquerda, Os pagamentos serão:\n",
    "* Player A - 4\n",
    "* Player B - 2\n",
    "\n",
    "Para o Player A sempre será melhor jogar para Baixo  por seu \"payoff\" (4/2) sempre será maior que Para Cima (2/0)\n",
    "\n",
    "Para o Player B sempre será melhor  jogar para a esquerda, visto que o payoff\" (4/2) sempre será maior que Para Cima (2/0)\n",
    "\n",
    "A estratégia de equilibrio é Player A jogar para baixo e Player B jogar para esquerda <Conceito da estratégia dominante>"
   ]
  },
  {
   "cell_type": "markdown",
   "metadata": {},
   "source": [
    "#### Estratégia dominante\n",
    "\n",
    "Existe uma estratégia otimizada pata cada jogador.  Não importa qual a escolha do Player B, o Player A deve sempre escolher \"Baixo\" e não importa a escolha do Player A, o Player B sempre deve escolher \"Esquerda\"."
   ]
  },
  {
   "cell_type": "markdown",
   "metadata": {},
   "source": [
    "#### Equilibrio de Nash"
   ]
  },
  {
   "cell_type": "code",
   "execution_count": 6,
   "metadata": {},
   "outputs": [
    {
     "data": {
      "text/plain": [
       "Bi matrix game with payoff matrices:\n",
       "\n",
       "Row player:\n",
       "[[2 0]\n",
       " [4 2]]\n",
       "\n",
       "Column player:\n",
       "[[4 2]\n",
       " [2 0]]"
      ]
     },
     "execution_count": 6,
     "metadata": {},
     "output_type": "execute_result"
    }
   ],
   "source": [
    "A = np.array([[2,0],[4,2]])\n",
    "B = np.array([[4,2],[2,0]])\n",
    "game1 = nash.Game(A,B)\n",
    "game1"
   ]
  },
  {
   "cell_type": "code",
   "execution_count": 5,
   "metadata": {},
   "outputs": [
    {
     "name": "stdout",
     "output_type": "stream",
     "text": [
      "(array([0., 1.]), array([1., 0.]))\n"
     ]
    }
   ],
   "source": [
    "equilibria  = game1.support_enumeration()\n",
    "for eq in equilibria:\n",
    "    print(eq)"
   ]
  },
  {
   "cell_type": "code",
   "execution_count": 12,
   "metadata": {},
   "outputs": [
    {
     "name": "stdout",
     "output_type": "stream",
     "text": [
      "(array([1., 0.]), array([1., 0.]))\n",
      "(array([0., 1.]), array([0., 1.]))\n",
      "(array([0.66666667, 0.33333333]), array([0.33333333, 0.66666667]))\n"
     ]
    }
   ],
   "source": [
    "A = np.array([[4,0],[0,2]])\n",
    "B = np.array([[2,0],[0,4]])\n",
    "game2 = nash.Game(A,B)\n",
    "game2\n",
    "\n",
    "equilibria  = game2.support_enumeration()\n",
    "for eq in equilibria:\n",
    "    print(eq)"
   ]
  },
  {
   "cell_type": "code",
   "execution_count": 13,
   "metadata": {},
   "outputs": [
    {
     "data": {
      "text/plain": [
       "array([1.3266, 1.3266])"
      ]
     },
     "execution_count": 13,
     "metadata": {},
     "output_type": "execute_result"
    }
   ],
   "source": [
    "sigma_r = np.array([.67,.33])\n",
    "sigma_c = np.array([.33,.67])\n",
    "pd = nash.Game(A, B)\n",
    "pd[sigma_r, sigma_c]"
   ]
  },
  {
   "cell_type": "code",
   "execution_count": 14,
   "metadata": {},
   "outputs": [
    {
     "name": "stdout",
     "output_type": "stream",
     "text": [
      "(array([1., 0.]), array([1., 0.]))\n"
     ]
    }
   ],
   "source": [
    "A = np.array([[-3,0],[-6,-1]]) \n",
    "B = np.array([[-3,-6],[0,-1]]) \n",
    "game4 = nash.Game(A,B)\n",
    "game4\n",
    "\n",
    "equilibria = game4.support_enumeration()\n",
    "for eq in equilibria:\n",
    "    print(eq)"
   ]
  }
 ],
 "metadata": {
  "kernelspec": {
   "display_name": "Python 3",
   "language": "python",
   "name": "python3"
  },
  "language_info": {
   "codemirror_mode": {
    "name": "ipython",
    "version": 3
   },
   "file_extension": ".py",
   "mimetype": "text/x-python",
   "name": "python",
   "nbconvert_exporter": "python",
   "pygments_lexer": "ipython3",
   "version": "3.11.4"
  }
 },
 "nbformat": 4,
 "nbformat_minor": 2
}
