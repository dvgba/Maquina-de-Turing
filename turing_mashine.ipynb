{
 "cells": [
  {
   "cell_type": "markdown",
   "metadata": {},
   "source": [
    "##### Maquina de Turing\n",
    "Este código implementa uma Máquina de Turing (MT) determinística que verifica se uma dada string é aceita ou não, seguindo um conjunto específico de regras de transição. \n",
    "\n",
    "O usuário fornece uma string de entrada que a máquina de Turing tentará aceitar ou rejeitar."
   ]
  },
  {
   "cell_type": "code",
   "execution_count": 32,
   "metadata": {},
   "outputs": [],
   "source": [
    "# Entrada do Usuário\n",
    "string = input(\"Adicione uma String: \")\n",
    "# Inicialização da Fita\n",
    "length = len(string) + 2\n",
    "tape = ['B']*length\n",
    "i = 1\n",
    "tapehead = 1"
   ]
  },
  {
   "cell_type": "markdown",
   "metadata": {},
   "source": [
    "##### Definição da Função de Ação:\n",
    "\n",
    "A fita é inicializada com a string fornecida pelo usuário. 'B' é usado para marcar os espaços vazios na fita. A variável tapehead mantém a posição atual da cabeça de leitura/escrita na fita."
   ]
  },
  {
   "cell_type": "code",
   "execution_count": 33,
   "metadata": {},
   "outputs": [],
   "source": [
    "# Definição da Função de Ação:\n",
    "def action(input_char, replace_with, move, new_state):\n",
    "    global tapehead, state\n",
    "    if tape[tapehead] == input_char:\n",
    "        tape[tapehead] = replace_with\n",
    "        state = new_state\n",
    "        \n",
    "        if move == 'L':\n",
    "            tapehead -= 1\n",
    "        else: \n",
    "            tapehead += 1\n",
    "            return True\n",
    "        \n",
    "    return False"
   ]
  },
  {
   "cell_type": "markdown",
   "metadata": {},
   "source": [
    "Esta função action é usada para executar as regras de transição da máquina de Turing. Ela verifica o caractere atual na fita (input_char) e, se corresponder, substitui-o pelo caractere especificado (replace_with). A máquina de Turing então se move para a esquerda ('L') ou direita ('R') na fita e muda para um novo estado (new_state)."
   ]
  },
  {
   "cell_type": "markdown",
   "metadata": {},
   "source": [
    "##### Loop Principal da Máquina de Turing\n",
    "\n",
    "Este é o loop principal da máquina de Turing. O loop é executado enquanto a cabeça de leitura/escrita está se movendo. Se a cabeça de leitura/escrita não se move, a máquina de Turing termina.\n",
    "\n",
    "Dentro do loop, o código verifica o estado atual (state) da máquina de Turing e executa as ações correspondentes com base nas regras de transição definidas para cada estado. As regras de transição determinam qual caractere ler na fita, qual caractere escrever, para onde mover a cabeça de leitura/escrita e em qual estado entrar em seguida."
   ]
  },
  {
   "cell_type": "code",
   "execution_count": 34,
   "metadata": {},
   "outputs": [
    {
     "name": "stdout",
     "output_type": "stream",
     "text": [
      "['B', 'a', 'b', 'c', 'a', 'b', 'c', 'B'] Com a 'tapehead' no indice 1 no estado 0\n",
      "['B', 'X', 'b', 'c', 'a', 'b', 'c', 'B'] Com a 'tapehead' no indice 2 no estado 1\n",
      "['B', 'X', 'b', 'c', 'a', 'b', 'c', 'B'] Com a 'tapehead' no indice 3 no estado 2\n",
      "String não aceita no estado. =  2\n"
     ]
    }
   ],
   "source": [
    "for s in string:\n",
    "    tape[i] = s\n",
    "    i += 1\n",
    "# Regras de Transição:\n",
    "state = 0\n",
    "# Atribuir caracteres a variáveis para que não seja necessário usar os caracteres cada vez.\n",
    "a, b, X, Z, U, V, R, L, B = 'a', 'b', 'X', 'Z', 'U', 'V', 'R', 'L', 'B' \n",
    "oldtapehead = -1\n",
    "accept = False\n",
    "\n",
    "# Se 'tapehead' não está se movendo, isso significa que a máquina de Turing foi encerrada.\n",
    "while(oldtapehead != tapehead): \n",
    "    oldtapehead = tapehead\n",
    "    print(tape , \"Com a 'tapehead' no indice\", tapehead, \"no estado\" , state)\n",
    "    \n",
    "    if state == 0:\n",
    "        if action(a, X, R, 1) or action(B, B, R, 10) or action(Z, Z, R, 7) or action(b, U, R, 4):\n",
    "            pass\n",
    "        \n",
    "    elif state == 1:\n",
    "        if action(a, a, R, 1) or action(b, b, R, 2) or action(B, B, L, 11):\n",
    "            pass\n",
    "        \n",
    "    elif state == 2:\n",
    "        if action(b, b, R, 2) or action(Z, Z, R, 2) or action(a, Z, L, 3):\n",
    "            pass\n",
    "            \n",
    "    elif state == 3:\n",
    "        if action(b, b, L, 3) or action(Z, Z, L, 3) or action(a, a, L, 3) or action(X, X, R, 0):\n",
    "            pass\n",
    "    \n",
    "    elif state == 4:\n",
    "        if action(b, b, R, 4) or action(Z, Z, R, 5) or action(B, B, L, 15):\n",
    "            pass\n",
    "        \n",
    "    elif state == 5:\n",
    "        if action(Z, Z, R, 5) or action(V, V, R, 5) or action(b, V, L, 6):\n",
    "            pass\n",
    "            \n",
    "    elif state == 6:\n",
    "        if action(Z, Z, L, 6) or action(V, V, L, 6) or action(b, b, L, 6) or action(U, U, R, 0):\n",
    "            pass\n",
    "            \n",
    "    elif state == 7:\n",
    "        if action(Z, Z, R, 7) or action(V, V, R, 8):\n",
    "            pass\n",
    "            \n",
    "    elif state == 8:\n",
    "        if action(V, V, R, 8) or action(B, B, R, 9):\n",
    "            pass\n",
    "        \n",
    "    elif state == 11:\n",
    "        if action(a, a, L, 11) or action(X, X, R, 12):\n",
    "            pass\n",
    "        \n",
    "    elif state == 12:\n",
    "        if action(a, Z, R, 13):\n",
    "            pass\n",
    "        \n",
    "    elif state == 13:\n",
    "        if action(a, X, R, 12) or action(B, B, R, 14):\n",
    "            pass\n",
    "            \n",
    "    elif state == 15:\n",
    "        if action(b, b, L, 15) or action(U, U, R, 16):\n",
    "            pass\n",
    "            \n",
    "    elif state == 16:\n",
    "        if action(b, V, R, 17):\n",
    "            pass\n",
    "            \n",
    "    elif state == 17:\n",
    "        if action(b, U, R, 16) or action(B, B, R, 18):\n",
    "            pass\n",
    "            \n",
    "    else:\n",
    "        accept = True\n",
    "        \n",
    "# Verificação do Resultado:            \n",
    "if accept:\n",
    "    print(\"String aceita no estado. = \", state)\n",
    "else:\n",
    "    print(\"String não aceita no estado. = \", state)"
   ]
  },
  {
   "cell_type": "markdown",
   "metadata": {},
   "source": [
    "Após o loop, o código verifica se a máquina de Turing aceitou a string (se accept for True) e imprime o estado final da máquina de Turing."
   ]
  }
 ],
 "metadata": {
  "kernelspec": {
   "display_name": "Python 3",
   "language": "python",
   "name": "python3"
  },
  "language_info": {
   "codemirror_mode": {
    "name": "ipython",
    "version": 3
   },
   "file_extension": ".py",
   "mimetype": "text/x-python",
   "name": "python",
   "nbconvert_exporter": "python",
   "pygments_lexer": "ipython3",
   "version": "3.11.4"
  }
 },
 "nbformat": 4,
 "nbformat_minor": 2
}
